{
  "cells": [
    {
      "cell_type": "markdown",
      "metadata": {
        "id": "4dAZkMC9joHP"
      },
      "source": [
        "# Web Scraping Exercises\n",
        "\n",
        "## Complete the Tasks Below"
      ]
    },
    {
      "cell_type": "code",
      "source": [],
      "metadata": {
        "id": "Ss3ftu1uRULj"
      },
      "execution_count": null,
      "outputs": []
    },
    {
      "cell_type": "markdown",
      "source": [],
      "metadata": {
        "id": "skIWiTWFRTVu"
      }
    },
    {
      "cell_type": "markdown",
      "metadata": {
        "id": "dOsVFKuPjoHQ"
      },
      "source": [
        "**TASK: Import any libraries you think you'll need to scrape a website.**"
      ]
    },
    {
      "cell_type": "code",
      "execution_count": null,
      "metadata": {
        "id": "mMgPcUxajoHR"
      },
      "outputs": [],
      "source": [
        "import requests"
      ]
    },
    {
      "cell_type": "code",
      "execution_count": null,
      "metadata": {
        "id": "y3rIiDDhjoHT"
      },
      "outputs": [],
      "source": [
        "from bs4 import BeautifulSoup"
      ]
    },
    {
      "cell_type": "markdown",
      "metadata": {
        "id": "ZKh5ImIBjoHU"
      },
      "source": [
        "**TASK: Use requests library and BeautifulSoup to connect to http://quotes.toscrape.com/ and get the HMTL text from the homepage.**"
      ]
    },
    {
      "cell_type": "code",
      "source": [
        "url = \"https://quotes.toscrape.com/\"\n",
        "response = requests.get(url)\n",
        "soup = BeautifulSoup(response.content,'html.parser')"
      ],
      "metadata": {
        "id": "IaIUb4GZjw5l"
      },
      "execution_count": null,
      "outputs": []
    },
    {
      "cell_type": "markdown",
      "metadata": {
        "id": "w_CSETNPjoHY"
      },
      "source": [
        "**TASK: Get the names of all the authors on the first page.**"
      ]
    },
    {
      "cell_type": "code",
      "execution_count": null,
      "metadata": {
        "id": "Qd4QOPWBjoHZ",
        "outputId": "142a5581-cc1d-4f47-ae8d-0fc7b2bb36a2",
        "colab": {
          "base_uri": "https://localhost:8080/"
        }
      },
      "outputs": [
        {
          "output_type": "stream",
          "name": "stdout",
          "text": [
            "Albert Einstein \n",
            "\n",
            "J.K. Rowling \n",
            "\n",
            "Albert Einstein \n",
            "\n",
            "Jane Austen \n",
            "\n",
            "Marilyn Monroe \n",
            "\n",
            "Albert Einstein \n",
            "\n",
            "André Gide \n",
            "\n",
            "Thomas A. Edison \n",
            "\n",
            "Eleanor Roosevelt \n",
            "\n",
            "Steve Martin \n",
            "\n"
          ]
        }
      ],
      "source": [
        "authors = soup.find_all('small',class_='author')\n",
        "for author in authors:\n",
        "  print(author.text,\"\\n\")"
      ]
    },
    {
      "cell_type": "markdown",
      "metadata": {
        "id": "Og54nkcXjoHa"
      },
      "source": [
        "**TASK: Create a list of all the quotes on the first page.**"
      ]
    },
    {
      "cell_type": "code",
      "execution_count": null,
      "metadata": {
        "id": "hCtpUseejoHa",
        "outputId": "e706a40d-bb1a-480b-d6bf-2fc1c5c5de15",
        "colab": {
          "base_uri": "https://localhost:8080/"
        }
      },
      "outputs": [
        {
          "output_type": "stream",
          "name": "stdout",
          "text": [
            "“The world as we have created it is a process of our thinking. It cannot be changed without changing our thinking.” \n",
            "\n",
            "“It is our choices, Harry, that show what we truly are, far more than our abilities.” \n",
            "\n",
            "“There are only two ways to live your life. One is as though nothing is a miracle. The other is as though everything is a miracle.” \n",
            "\n",
            "“The person, be it gentleman or lady, who has not pleasure in a good novel, must be intolerably stupid.” \n",
            "\n",
            "“Imperfection is beauty, madness is genius and it's better to be absolutely ridiculous than absolutely boring.” \n",
            "\n",
            "“Try not to become a man of success. Rather become a man of value.” \n",
            "\n",
            "“It is better to be hated for what you are than to be loved for what you are not.” \n",
            "\n",
            "“I have not failed. I've just found 10,000 ways that won't work.” \n",
            "\n",
            "“A woman is like a tea bag; you never know how strong it is until it's in hot water.” \n",
            "\n",
            "“A day without sunshine is like, you know, night.” \n",
            "\n"
          ]
        }
      ],
      "source": [
        "quotes = soup.find_all('span',class_='text')\n",
        "for quote in quotes:\n",
        "  print(quote.text,\"\\n\")"
      ]
    },
    {
      "cell_type": "markdown",
      "metadata": {
        "id": "2QRcYnR2joHb"
      },
      "source": [
        "**TASK: Inspect the site and use Beautiful Soup to extract the top ten tags from the requests text shown on the top right from the home page (e.g Love,Inspirational,Life, etc...). HINT: Keep in mind there are also tags underneath each quote, try to find a class only present in the top right tags, perhaps check the span.**"
      ]
    },
    {
      "cell_type": "code",
      "execution_count": null,
      "metadata": {
        "id": "0IisOxVHjoHb",
        "outputId": "fe56a214-ff04-4d10-fede-9db273e0339e",
        "colab": {
          "base_uri": "https://localhost:8080/"
        }
      },
      "outputs": [
        {
          "output_type": "stream",
          "name": "stdout",
          "text": [
            "\n",
            "love\n",
            " \n",
            "\n",
            "\n",
            "inspirational\n",
            " \n",
            "\n",
            "\n",
            "life\n",
            " \n",
            "\n",
            "\n",
            "humor\n",
            " \n",
            "\n",
            "\n",
            "books\n",
            " \n",
            "\n",
            "\n",
            "reading\n",
            " \n",
            "\n",
            "\n",
            "friendship\n",
            " \n",
            "\n",
            "\n",
            "friends\n",
            " \n",
            "\n",
            "\n",
            "truth\n",
            " \n",
            "\n",
            "\n",
            "simile\n",
            " \n",
            "\n"
          ]
        }
      ],
      "source": [
        "tags = soup.find_all('span',class_='tag-item')\n",
        "for tag in tags:\n",
        "  print(tag.text,'\\n')"
      ]
    },
    {
      "cell_type": "markdown",
      "metadata": {
        "id": "rXtH8xV8joHc"
      },
      "source": [
        "**TASK: Notice how there is more than one page, and subsequent pages look like this http://quotes.toscrape.com/page/2/. Use what you know about for loops and string concatenation to loop through all the pages and get all the unique authors on the website. Keep in mind there are many ways to achieve this, also note that you will need to somehow figure out how to check that your loop is on the last page with quotes. For debugging purposes, I will let you know that there are only 10 pages, so the last page is http://quotes.toscrape.com/page/10/, but try to create a loop that is robust enough that it wouldn't matter to know the amount of pages beforehand, perhaps use try/except for this, its up to you!**"
      ]
    },
    {
      "cell_type": "code",
      "source": [
        "import requests\n",
        "from bs4 import BeautifulSoup\n",
        "\n",
        "URL = 'https://quotes.toscrape.com/page/'\n",
        "page = 1\n",
        "authors = set()\n",
        "\n",
        "while True:\n",
        "    url = URL + str(page) + \"/\"\n",
        "    response = requests.get(url)\n",
        "\n",
        "    if response.status_code != 200:\n",
        "        break\n",
        "\n",
        "    soup = BeautifulSoup(response.text, 'html.parser')\n",
        "\n",
        "    quotes = soup.find_all(\"div\", class_=\"quote\")\n",
        "\n",
        "    if not quotes:\n",
        "        break\n",
        "\n",
        "    for s in quotes:\n",
        "        author = s.find('small', class_='author').text.strip()\n",
        "        authors.add(author)\n",
        "\n",
        "    page += 1\n",
        "\n",
        "\n",
        "for i in sorted(authors):\n",
        "    print(i ,\"\\n\")\n"
      ],
      "metadata": {
        "id": "miV-KLSeQFeJ",
        "outputId": "4e80591c-a1e7-4be4-e0e2-ed0b36a467fa",
        "colab": {
          "base_uri": "https://localhost:8080/"
        }
      },
      "execution_count": null,
      "outputs": [
        {
          "output_type": "stream",
          "name": "stdout",
          "text": [
            "Albert Einstein \n",
            "\n",
            "Alexandre Dumas fils \n",
            "\n",
            "Alfred Tennyson \n",
            "\n",
            "Allen Saunders \n",
            "\n",
            "André Gide \n",
            "\n",
            "Ayn Rand \n",
            "\n",
            "Bob Marley \n",
            "\n",
            "C.S. Lewis \n",
            "\n",
            "Charles Bukowski \n",
            "\n",
            "Charles M. Schulz \n",
            "\n",
            "Douglas Adams \n",
            "\n",
            "Dr. Seuss \n",
            "\n",
            "E.E. Cummings \n",
            "\n",
            "Eleanor Roosevelt \n",
            "\n",
            "Elie Wiesel \n",
            "\n",
            "Ernest Hemingway \n",
            "\n",
            "Friedrich Nietzsche \n",
            "\n",
            "Garrison Keillor \n",
            "\n",
            "George Bernard Shaw \n",
            "\n",
            "George Carlin \n",
            "\n",
            "George Eliot \n",
            "\n",
            "George R.R. Martin \n",
            "\n",
            "Harper Lee \n",
            "\n",
            "Haruki Murakami \n",
            "\n",
            "Helen Keller \n",
            "\n",
            "J.D. Salinger \n",
            "\n",
            "J.K. Rowling \n",
            "\n",
            "J.M. Barrie \n",
            "\n",
            "J.R.R. Tolkien \n",
            "\n",
            "James Baldwin \n",
            "\n",
            "Jane Austen \n",
            "\n",
            "Jim Henson \n",
            "\n",
            "Jimi Hendrix \n",
            "\n",
            "John Lennon \n",
            "\n",
            "Jorge Luis Borges \n",
            "\n",
            "Khaled Hosseini \n",
            "\n",
            "Madeleine L'Engle \n",
            "\n",
            "Marilyn Monroe \n",
            "\n",
            "Mark Twain \n",
            "\n",
            "Martin Luther King Jr. \n",
            "\n",
            "Mother Teresa \n",
            "\n",
            "Pablo Neruda \n",
            "\n",
            "Ralph Waldo Emerson \n",
            "\n",
            "Stephenie Meyer \n",
            "\n",
            "Steve Martin \n",
            "\n",
            "Suzanne Collins \n",
            "\n",
            "Terry Pratchett \n",
            "\n",
            "Thomas A. Edison \n",
            "\n",
            "W.C. Fields \n",
            "\n",
            "William Nicholson \n",
            "\n"
          ]
        }
      ]
    },
    {
      "cell_type": "code",
      "source": [],
      "metadata": {
        "id": "DLNSee9XQGSM"
      },
      "execution_count": null,
      "outputs": []
    }
  ],
  "metadata": {
    "kernelspec": {
      "display_name": "Python 3",
      "language": "python",
      "name": "python3"
    },
    "language_info": {
      "codemirror_mode": {
        "name": "ipython",
        "version": 3
      },
      "file_extension": ".py",
      "mimetype": "text/x-python",
      "name": "python",
      "nbconvert_exporter": "python",
      "pygments_lexer": "ipython3",
      "version": "3.8.5"
    },
    "colab": {
      "provenance": []
    }
  },
  "nbformat": 4,
  "nbformat_minor": 0
}